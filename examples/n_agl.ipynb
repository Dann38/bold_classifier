{
 "cells": [
  {
   "cell_type": "code",
   "execution_count": 25,
   "id": "81529b53-7781-49cd-ade5-d04de2098f19",
   "metadata": {},
   "outputs": [],
   "source": [
    "from sklearn.cluster import AgglomerativeClustering"
   ]
  },
  {
   "cell_type": "code",
   "execution_count": 26,
   "id": "4d00cd6b-35b5-407c-b04d-8b5cee4ddfb4",
   "metadata": {},
   "outputs": [],
   "source": [
    "import numpy as np\n",
    "import matplotlib.pyplot as plt"
   ]
  },
  {
   "cell_type": "code",
   "execution_count": 27,
   "id": "bd9ffd9c-f6dc-4aeb-830b-d3d08b57db95",
   "metadata": {},
   "outputs": [],
   "source": [
    "import os\n",
    "\n",
    "from bold_classifier import PsWidthHeigthClassifier\n",
    "from dataset_reader.dataset_reader import Reader\n",
    "from dataset_reader.drawer import Drawer\n",
    "\n",
    "classifier = PsWidthHeigthClassifier()\n",
    "\n",
    "rez = classifier.classify(pages[num_page].image, pages[num_page].bboxes)\n",
    "# drawer.imshow(pages[num_page].image, pages[num_page].bboxes, rez)\n"
   ]
  },
  {
   "cell_type": "code",
   "execution_count": 111,
   "id": "684c2f06-05ee-41e3-8f6a-d295ce9b5aae",
   "metadata": {},
   "outputs": [],
   "source": [
    "ps = [0.4859, 0.5264, 0.6009, 0.7159, 0.4354, 0.5935, 0.5882, 0.5514, 0.5623, 0.5696, 0.4585, 0.5283, 0.4431, 0.5647, 0.5485, 0.9694, 0.979, 0.9576, 0.7029, 0.7742, 1, 0.9311, 0.7029, 1, 1, 0.9999, 1, 1, 0.7982, 0.9375, 0.8831, 1, 1, 0.9379, 1, 0.961, 0.9965, 0.9911, 0.8864, 0.96, 0.9254, 0.9231, 0.6463, 0.8935, 0.8253]"
   ]
  },
  {
   "cell_type": "code",
   "execution_count": 112,
   "id": "80409a5a-5060-4281-8591-a3eaf5f53be4",
   "metadata": {},
   "outputs": [],
   "source": [
    "ps_label = np.zeros_like(ps)"
   ]
  },
  {
   "cell_type": "code",
   "execution_count": 113,
   "id": "ca3d443a-b71c-4651-b58c-7bf2f60f0ba2",
   "metadata": {},
   "outputs": [],
   "source": [
    "ps_label[0:15] = 1\n",
    "ps_label[18:20] = 1\n",
    "ps_label[22:24] = 1"
   ]
  },
  {
   "cell_type": "code",
   "execution_count": 114,
   "id": "b36f29c8-a383-4514-9fda-cb5c6f3fb06d",
   "metadata": {},
   "outputs": [],
   "source": [
    "x_vec = np.zeros((len(ps), 2))"
   ]
  },
  {
   "cell_type": "code",
   "execution_count": 115,
   "id": "8656fcdd-0c01-49e4-ac36-d2176f8edb45",
   "metadata": {},
   "outputs": [
    {
     "data": {
      "text/plain": [
       "array([[0.4859    , 0.4994    ],\n",
       "       [0.5264    , 0.53773333],\n",
       "       [0.6009    , 0.6144    ],\n",
       "       [0.7159    , 0.58406667],\n",
       "       [0.4354    , 0.5816    ]])"
      ]
     },
     "execution_count": 115,
     "metadata": {},
     "output_type": "execute_result"
    }
   ],
   "source": [
    "x_vec[:, 0] = ps[:]\n",
    "x_vec[:, 1] = ps[:]\n",
    "\n",
    "x_vec[1:, 1] += ps[:-1]\n",
    "x_vec[:-1, 1] += ps[1:]\n",
    "x_vec[0, 1] += ps[0]\n",
    "x_vec[-1, 1] += ps[-1]\n",
    "x_vec[:, 1] = x_vec[:, 1]/3\n",
    "x_vec[:5, :]"
   ]
  },
  {
   "cell_type": "code",
   "execution_count": 116,
   "id": "14fff46c-879f-4863-9bd8-301b7685de0e",
   "metadata": {},
   "outputs": [],
   "source": [
    "agg = AgglomerativeClustering(n_clusters=None, distance_threshold=0.3)\n",
    "agg2 = AgglomerativeClustering()"
   ]
  },
  {
   "cell_type": "code",
   "execution_count": 117,
   "id": "4888fc9c-f418-4f91-ae7a-1b22c3b26962",
   "metadata": {},
   "outputs": [
    {
     "data": {
      "text/html": [
       "<style>#sk-container-id-8 {color: black;background-color: white;}#sk-container-id-8 pre{padding: 0;}#sk-container-id-8 div.sk-toggleable {background-color: white;}#sk-container-id-8 label.sk-toggleable__label {cursor: pointer;display: block;width: 100%;margin-bottom: 0;padding: 0.3em;box-sizing: border-box;text-align: center;}#sk-container-id-8 label.sk-toggleable__label-arrow:before {content: \"▸\";float: left;margin-right: 0.25em;color: #696969;}#sk-container-id-8 label.sk-toggleable__label-arrow:hover:before {color: black;}#sk-container-id-8 div.sk-estimator:hover label.sk-toggleable__label-arrow:before {color: black;}#sk-container-id-8 div.sk-toggleable__content {max-height: 0;max-width: 0;overflow: hidden;text-align: left;background-color: #f0f8ff;}#sk-container-id-8 div.sk-toggleable__content pre {margin: 0.2em;color: black;border-radius: 0.25em;background-color: #f0f8ff;}#sk-container-id-8 input.sk-toggleable__control:checked~div.sk-toggleable__content {max-height: 200px;max-width: 100%;overflow: auto;}#sk-container-id-8 input.sk-toggleable__control:checked~label.sk-toggleable__label-arrow:before {content: \"▾\";}#sk-container-id-8 div.sk-estimator input.sk-toggleable__control:checked~label.sk-toggleable__label {background-color: #d4ebff;}#sk-container-id-8 div.sk-label input.sk-toggleable__control:checked~label.sk-toggleable__label {background-color: #d4ebff;}#sk-container-id-8 input.sk-hidden--visually {border: 0;clip: rect(1px 1px 1px 1px);clip: rect(1px, 1px, 1px, 1px);height: 1px;margin: -1px;overflow: hidden;padding: 0;position: absolute;width: 1px;}#sk-container-id-8 div.sk-estimator {font-family: monospace;background-color: #f0f8ff;border: 1px dotted black;border-radius: 0.25em;box-sizing: border-box;margin-bottom: 0.5em;}#sk-container-id-8 div.sk-estimator:hover {background-color: #d4ebff;}#sk-container-id-8 div.sk-parallel-item::after {content: \"\";width: 100%;border-bottom: 1px solid gray;flex-grow: 1;}#sk-container-id-8 div.sk-label:hover label.sk-toggleable__label {background-color: #d4ebff;}#sk-container-id-8 div.sk-serial::before {content: \"\";position: absolute;border-left: 1px solid gray;box-sizing: border-box;top: 0;bottom: 0;left: 50%;z-index: 0;}#sk-container-id-8 div.sk-serial {display: flex;flex-direction: column;align-items: center;background-color: white;padding-right: 0.2em;padding-left: 0.2em;position: relative;}#sk-container-id-8 div.sk-item {position: relative;z-index: 1;}#sk-container-id-8 div.sk-parallel {display: flex;align-items: stretch;justify-content: center;background-color: white;position: relative;}#sk-container-id-8 div.sk-item::before, #sk-container-id-8 div.sk-parallel-item::before {content: \"\";position: absolute;border-left: 1px solid gray;box-sizing: border-box;top: 0;bottom: 0;left: 50%;z-index: -1;}#sk-container-id-8 div.sk-parallel-item {display: flex;flex-direction: column;z-index: 1;position: relative;background-color: white;}#sk-container-id-8 div.sk-parallel-item:first-child::after {align-self: flex-end;width: 50%;}#sk-container-id-8 div.sk-parallel-item:last-child::after {align-self: flex-start;width: 50%;}#sk-container-id-8 div.sk-parallel-item:only-child::after {width: 0;}#sk-container-id-8 div.sk-dashed-wrapped {border: 1px dashed gray;margin: 0 0.4em 0.5em 0.4em;box-sizing: border-box;padding-bottom: 0.4em;background-color: white;}#sk-container-id-8 div.sk-label label {font-family: monospace;font-weight: bold;display: inline-block;line-height: 1.2em;}#sk-container-id-8 div.sk-label-container {text-align: center;}#sk-container-id-8 div.sk-container {/* jupyter's `normalize.less` sets `[hidden] { display: none; }` but bootstrap.min.css set `[hidden] { display: none !important; }` so we also need the `!important` here to be able to override the default hidden behavior on the sphinx rendered scikit-learn.org. See: https://github.com/scikit-learn/scikit-learn/issues/21755 */display: inline-block !important;position: relative;}#sk-container-id-8 div.sk-text-repr-fallback {display: none;}</style><div id=\"sk-container-id-8\" class=\"sk-top-container\"><div class=\"sk-text-repr-fallback\"><pre>AgglomerativeClustering(distance_threshold=0.3, n_clusters=None)</pre><b>In a Jupyter environment, please rerun this cell to show the HTML representation or trust the notebook. <br />On GitHub, the HTML representation is unable to render, please try loading this page with nbviewer.org.</b></div><div class=\"sk-container\" hidden><div class=\"sk-item\"><div class=\"sk-estimator sk-toggleable\"><input class=\"sk-toggleable__control sk-hidden--visually\" id=\"sk-estimator-id-8\" type=\"checkbox\" checked><label for=\"sk-estimator-id-8\" class=\"sk-toggleable__label sk-toggleable__label-arrow\">AgglomerativeClustering</label><div class=\"sk-toggleable__content\"><pre>AgglomerativeClustering(distance_threshold=0.3, n_clusters=None)</pre></div></div></div></div></div>"
      ],
      "text/plain": [
       "AgglomerativeClustering(distance_threshold=0.3, n_clusters=None)"
      ]
     },
     "execution_count": 117,
     "metadata": {},
     "output_type": "execute_result"
    }
   ],
   "source": [
    "agg.fit(x_vec)"
   ]
  },
  {
   "cell_type": "code",
   "execution_count": 118,
   "id": "dae25e12-f301-4613-8a43-9d19c8758104",
   "metadata": {},
   "outputs": [],
   "source": [
    "x_clusters = agg.labels_"
   ]
  },
  {
   "cell_type": "code",
   "execution_count": 119,
   "id": "61b2f122-88ba-479a-af93-61785aaaaef9",
   "metadata": {},
   "outputs": [
    {
     "data": {
      "image/png": "[encoded data removed]",
      "text/plain": [
       "<Figure size 640x480 with 1 Axes>"
      ]
     },
     "metadata": {},
     "output_type": "display_data"
    }
   ],
   "source": [
    "color = {\n",
    "    0: \"#f00\",\n",
    "    1: \"#0f0\",\n",
    "    2: \"#00f\",\n",
    "    3: \"#ff0\",\n",
    "    4: \"#0ff\",\n",
    "    5: \"#f0f\",\n",
    "    6: \"#f80\",\n",
    "    7: \"#8f0\",\n",
    "}\n",
    "mark = {\n",
    "    0: \"o\",\n",
    "    1: \"*\"\n",
    "}\n",
    "\n",
    "for p in zip(x_vec, x_clusters, ps_label):\n",
    "    plt.scatter(p[0][0], p[0][1], color=color[p[1]], marker=mark[p[2]])"
   ]
  },
  {
   "cell_type": "code",
   "execution_count": 128,
   "id": "8e74bfa7-0f5d-4392-b2ec-b49b6c595140",
   "metadata": {},
   "outputs": [],
   "source": [
    "clusts = np.unique(x_clusters)\n",
    "\n",
    "ps_vec = x_vec[:, 0]\n",
    "ps_clusts = []\n",
    "len_clusts = []\n",
    "for i, c in enumerate(clusts):\n",
    "    ps_clusts.append(ps_vec[x_clusters==c].mean())\n",
    "    len_clusts.append(len(ps_vec[x_clusters==c]))\n",
    "    \n",
    "ps_clusts = np.array(ps_clusts)\n",
    "clusters2 = agg2.fit(ps_clusts.reshape(-1, 1) )\n",
    "\n",
    "for b in clusts[clusters2.labels_ == 1]:\n",
    "    x_clusters[x_clusters == b] = 1\n",
    "for r in clusts[clusters2.labels_ == 0]:\n",
    "    x_clusters[x_clusters == r] = 0\n"
   ]
  },
  {
   "cell_type": "code",
   "execution_count": 129,
   "id": "150041f2-850f-49f1-acb9-71b0987963c1",
   "metadata": {},
   "outputs": [
    {
     "data": {
      "image/png": "[encoded data removed]",
      "text/plain": [
       "<Figure size 640x480 with 1 Axes>"
      ]
     },
     "metadata": {},
     "output_type": "display_data"
    }
   ],
   "source": [
    "for p in zip(x_vec, x_clusters, ps_label):\n",
    "    plt.scatter(p[0][0], p[0][1], color=color[p[1]], marker=mark[p[2]])"
   ]
  },
  {
   "cell_type": "code",
   "execution_count": 123,
   "id": "780dc4fa-1bed-40df-a3d5-aba178d555b9",
   "metadata": {},
   "outputs": [
    {
     "data": {
      "text/plain": [
       "array([[0.97335   ],\n",
       "       [0.58214   ],\n",
       "       [0.74163333],\n",
       "       [0.93536667],\n",
       "       [0.47024   ]])"
      ]
     },
     "execution_count": 123,
     "metadata": {},
     "output_type": "execute_result"
    }
   ],
   "source": [
    "ps_clusts.reshape(-1, 1) "
   ]
  },
  {
   "cell_type": "code",
   "execution_count": null,
   "id": "dd58756d-9d99-4d54-b208-98be3cf9397b",
   "metadata": {},
   "outputs": [],
   "source": []
  }
 ],
 "metadata": {
  "kernelspec": {
   "display_name": "Python 3 (ipykernel)",
   "language": "python",
   "name": "python3"
  },
  "language_info": {
   "codemirror_mode": {
    "name": "ipython",
    "version": 3
   },
   "file_extension": ".py",
   "mimetype": "text/x-python",
   "name": "python",
   "nbconvert_exporter": "python",
   "pygments_lexer": "ipython3",
   "version": "3.10.12"
  }
 },
 "nbformat": 4,
 "nbformat_minor": 5
}
